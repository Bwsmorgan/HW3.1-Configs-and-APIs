{
  "nbformat": 4,
  "nbformat_minor": 0,
  "metadata": {
    "colab": {
      "provenance": []
    },
    "kernelspec": {
      "name": "python3",
      "display_name": "Python 3"
    },
    "language_info": {
      "name": "python"
    }
  },
  "cells": [
    {
      "cell_type": "markdown",
      "source": [
        "##Using GIT and Python From the Terminal in Colab\n"
      ],
      "metadata": {
        "id": "jH8nDvYaGxi2"
      }
    },
    {
      "cell_type": "code",
      "source": [
        "!pip install google_colab_shell #this is a command that will be run in the terminal to install google_colab_shell package\n",
        "from google_colab_shell import getshell"
      ],
      "metadata": {
        "colab": {
          "base_uri": "https://localhost:8080/"
        },
        "id": "g9jd13pyG9bF",
        "outputId": "af9085bf-9eed-42b6-ae3a-198677b34ceb"
      },
      "execution_count": 1,
      "outputs": [
        {
          "output_type": "stream",
          "name": "stdout",
          "text": [
            "Collecting google_colab_shell\n",
            "  Downloading google-colab-shell-0.2.tar.gz (4.2 kB)\n",
            "  Preparing metadata (setup.py) ... \u001b[?25l\u001b[?25hdone\n",
            "Building wheels for collected packages: google_colab_shell\n",
            "  Building wheel for google_colab_shell (setup.py) ... \u001b[?25l\u001b[?25hdone\n",
            "  Created wheel for google_colab_shell: filename=google_colab_shell-0.2-py3-none-any.whl size=4107 sha256=f244359ef5f35fa18aa2bc5ed53fcd5e2d4eca41c00c3041662701fda6eb08e6\n",
            "  Stored in directory: /root/.cache/pip/wheels/f9/36/65/95dd4599be065418a9fe1f482674c8e716ce540f3f484681d2\n",
            "Successfully built google_colab_shell\n",
            "Installing collected packages: google_colab_shell\n",
            "Successfully installed google_colab_shell-0.2\n"
          ]
        }
      ]
    },
    {
      "cell_type": "code",
      "execution_count": 3,
      "metadata": {
        "colab": {
          "base_uri": "https://localhost:8080/",
          "height": 417
        },
        "id": "Aj7vTK2WFYDr",
        "outputId": "6f656033-994e-4f34-ed38-078b23fb6839"
      },
      "outputs": [
        {
          "output_type": "execute_result",
          "data": {
            "text/plain": [
              "<IPython.core.display.HTML object>"
            ],
            "text/html": [
              "<!--https://github.com/singhsidhukuldeep/Google-Colab-Shell/-->\n",
              "<!--Using JS/CSS from official sources with backups in-case :)-->\n",
              "<div id=colab_shell></div>\n",
              "<script src=\"https://code.jquery.com/jquery-latest.js\"></script>\n",
              "<script src=\"https://cdn.jsdelivr.net/npm/jquery.terminal/js/jquery.terminal.min.js\"></script>\n",
              "<link href=\"https://cdn.jsdelivr.net/npm/jquery.terminal/css/jquery.terminal.min.css\" rel=\"stylesheet\"/>\n",
              "<script>\n",
              "   $('#colab_shell').terminal(async function(command) {\n",
              "       if (command !== '') {\n",
              "           try {\n",
              "               let res = await google.colab.kernel.invokeFunction('shell', [command])\n",
              "               let out = res.data['application/json'][0]\n",
              "               this.echo(new String(out))\n",
              "           } catch(e) {\n",
              "               this.error(new String(e));\n",
              "           }\n",
              "       } else {\n",
              "           this.echo(\n",
              "             //   '>>Empty Command<<\\n'+\n",
              "             //   'If you can afford use Google Colab Pro'\n",
              "               );\n",
              "       }\n",
              "   }, {\n",
              "       greetings: 'Welcome to Google Colab Shell\\n'+\n",
              "         'If you can afford, please use Google Colab Pro ( https://colab.research.google.com/signup )\\n'+\n",
              "         '⭐ STAR the repo ⭐\\n https://github.com/singhsidhukuldeep/Google-Colab-Shell\\n\\n',\n",
              "       name: 'colab_shell',\n",
              "       height: 400,\n",
              "       prompt: '█$ colab>>\\t'\n",
              "   });\n",
              "</script>\n"
            ]
          },
          "metadata": {},
          "execution_count": 3
        }
      ],
      "source": [
        "getshell()"
      ]
    },
    {
      "cell_type": "markdown",
      "source": [
        "#**Command Line Arguments in Python**\n",
        "\n",
        "The **argparse** library built into Python is used to interpret command line arguments (ie. positional arguments, flags and options with values) from our terminal\n",
        "\n",
        "**TASK**:*italicized text*\n",
        "\n",
        "1. Create a Python Script in Colab that prints \"Hello World!\"\n",
        "\n",
        "2. Using the **argparse** library modify our Python script to interpret the following command line arguments: **postional argument, option, flag**:"
      ],
      "metadata": {
        "id": "YHaqZp_KJGQi"
      }
    },
    {
      "cell_type": "markdown",
      "source": [
        "#**Configuring Programs**\n",
        "\n",
        "There are 5 layers of configuration :\n",
        "\n",
        "  1. default program configuration\n",
        "  2. system-wide configuration\n",
        "  3. user-specific configuration\n",
        "  4. job-specific configuration\n",
        "  5. command line options\n",
        "\n",
        "We will be using **YAML** (YAML is Another Markup Language) format to configure our files\n",
        "\n",
        "YAML uses dictionary notation or key value pairs (key : value)\n",
        "\n",
        "**TASK**:\n",
        "\n",
        "  1. Create a YAML file in Colab\n",
        "\n",
        "  2. Write a Python script to load and consolidate YAML files\n",
        "\n"
      ],
      "metadata": {
        "id": "Rv1kfzTQSTck"
      }
    }
  ]
}