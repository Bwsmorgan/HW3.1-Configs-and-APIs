{
  "nbformat": 4,
  "nbformat_minor": 0,
  "metadata": {
    "colab": {
      "provenance": []
    },
    "kernelspec": {
      "name": "python3",
      "display_name": "Python 3"
    },
    "language_info": {
      "name": "python"
    }
  },
  "cells": [
    {
      "cell_type": "markdown",
      "source": [
        "#**Application Programming Interfaces (APIs)**\n",
        "\n",
        "Specification for how software programs communicate with each other\n",
        "\n",
        "  1. Public APIs\n",
        "  2. Private APIs\n",
        "\n",
        "  **TASK**:\n",
        "\n",
        "  1. Generate a github Personal Access token (API key)\n",
        "\n",
        "  2. Add this token to Colab Secret manager (type of configuration)\n",
        "\n",
        "  3. Use **requests** to retrieve user details from github web API"
      ],
      "metadata": {
        "id": "NYWyjUBbqu_2"
      }
    },
    {
      "cell_type": "code",
      "execution_count": 14,
      "metadata": {
        "colab": {
          "base_uri": "https://localhost:8080/"
        },
        "id": "7wAqznZSquFY",
        "outputId": "6406feda-4f54-4f91-9805-fa85ac5f60ba"
      },
      "outputs": [
        {
          "output_type": "stream",
          "name": "stdout",
          "text": [
            "200\n",
            "[]\n",
            "[]\n"
          ]
        }
      ],
      "source": [
        "import requests # sends HTTP request to Github to retrieve the data\n",
        "import json # json is how we will interpret the results from our request\n",
        "from pprint import pprint #displays our json\n",
        "\n",
        "# get secret from colab\n",
        "from google.colab import userdata\n",
        "token = userdata.get('ghtoken')\n",
        "\n",
        "# initialize request parameters\n",
        "url = 'https://api.github.com/user/starred'\n",
        "headers = {'Authorization': 'Bearer ' + token}\n",
        "\n",
        "\n",
        "# send request to github\n",
        "r = requests.get(url, headers=headers)\n",
        "\n",
        "# print initial response\n",
        "print(r.status_code)\n",
        "print(r.text)\n",
        "\n",
        "# json is interpreting the response\n",
        "r_json = json.loads(r.text)\n",
        "pprint(r_json)\n",
        "\n"
      ]
    }
  ]
}