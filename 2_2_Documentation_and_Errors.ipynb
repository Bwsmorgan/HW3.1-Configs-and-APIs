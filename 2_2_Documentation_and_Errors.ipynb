{
  "nbformat": 4,
  "nbformat_minor": 0,
  "metadata": {
    "colab": {
      "provenance": []
    },
    "kernelspec": {
      "name": "python3",
      "display_name": "Python 3"
    },
    "language_info": {
      "name": "python"
    }
  },
  "cells": [
    {
      "cell_type": "markdown",
      "source": [
        "#**Refactor your GitHub API code**\n",
        "\n",
        "  - write a function\n",
        "  - write a docstring for the function in the numpy style"
      ],
      "metadata": {
        "id": "GOneYtNieEM5"
      }
    },
    {
      "cell_type": "code",
      "execution_count": 22,
      "metadata": {
        "colab": {
          "base_uri": "https://localhost:8080/"
        },
        "id": "d9VwDwnxeAcO",
        "outputId": "b1c9ed41-8ca7-4047-a71e-eb3d43ccc264"
      },
      "outputs": [
        {
          "output_type": "stream",
          "name": "stdout",
          "text": [
            "1st API failed\n",
            "success from 2nd API\n",
            "Username: Bwsmorgan\n",
            "Name: None\n"
          ]
        }
      ],
      "source": [
        "import requests # sends HTTP request to Github to retrieve the data\n",
        "import json # json is how we will interpret the results from our request\n",
        "from pprint import pprint #displays our json\n",
        "from google.colab import userdata\n",
        "\n",
        "\n",
        "def get_user_data() -> dict:\n",
        "\n",
        "  \"\"\" Get the authenticated user data object from github\n",
        "\n",
        "  Connect to the githb api and retireve the authenticated user data as a python dictionary\n",
        "\n",
        "  Parameters\n",
        "  ----------\n",
        "  None\n",
        "\n",
        "  Returns\n",
        "  -------\n",
        "  user_obj : dict\n",
        "    User data retrieved from github\n",
        "\n",
        "  Examples\n",
        "  --------\n",
        "  user_obj = get_user_data()\n",
        "  pprint(user_obj)\n",
        "\n",
        "  {\n",
        "    'Username': 'Bwsmorgan'\n",
        "    'Name': 'None',\n",
        "    ...\n",
        "  }\n",
        "\n",
        "  \"\"\"\n",
        "\n",
        "  # get secret from colab\n",
        "  token = userdata.get('ghtoken')\n",
        "\n",
        "  main_api = 'https://apggjhgjhghjghji.com'\n",
        "  backup_api = 'https://api.github.com'\n",
        "  try:\n",
        "\n",
        "    response = requests.get(url=main_api + '/user',\n",
        "                          headers={'Authorization': 'Bearer ' + token})\n",
        "    print('success from first API')\n",
        "\n",
        "  except requests.exceptions.ConnectionError:\n",
        "\n",
        "    print('1st API failed')\n",
        "    #connection error to first API, try back up\n",
        "    response = requests.get(url=backup_api + '/user',\n",
        "                          headers={'Authorization': 'Bearer ' + token})\n",
        "    print('success from 2nd API')\n",
        "\n",
        "\n",
        "  # response_json = json.loads(response.text)\n",
        "\n",
        "  return response.json()\n",
        "\n",
        "user_obj = get_user_data()\n",
        "\n",
        "print('Username: ' + user_obj['login'])\n",
        "print('Name: ' + str(user_obj['name']))\n",
        "\n"
      ]
    }
  ]
}